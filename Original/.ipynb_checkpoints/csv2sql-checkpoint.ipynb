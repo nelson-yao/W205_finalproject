{
 "cells": [
  {
   "cell_type": "code",
   "execution_count": 19,
   "metadata": {
    "collapsed": false
   },
   "outputs": [],
   "source": [
    "from sys import argv\n",
    "from numpy import genfromtxt\n",
    "import pandas as pd\n",
    "import re\n",
    "\n",
    "#if len(argv)!=2:\n",
    "    #print \"wrong number of arguments\"\n",
    "\n",
    "filename=\"marvelherosall.csv\"\n",
    "\n",
    "data=pd.read_csv(filename, delimiter=\",\", header=None, names=['character', \"role\", \"orders\", \"bookid\", \"title\"])\n",
    "data.head()\n",
    "\n",
    "sqlfile=[]\n",
    "for i in range(data.shape[0]):\n",
    "    item=data.iloc[i,].values.tolist()\n",
    "    item[4]=re.sub(\"'\", \" \", item[4])\n",
    "    insertion=str(item).strip('[]')\n",
    "    query=\"INSERT INTO marvelcharacter (character, role, orders, comicid, comictitle) VALUES (\"+insertion+\");\"\n",
    "    sqlfile.append(query)\n",
    "\n",
    "\n",
    "\n",
    "\n"
   ]
  },
  {
   "cell_type": "code",
   "execution_count": 20,
   "metadata": {
    "collapsed": false
   },
   "outputs": [],
   "source": [
    "with open(\"char_sql.sql\", \"w\") as charsqlfile:\n",
    "    for item in sqlfile:\n",
    "        charsqlfile.write(item+\"\\n\")\n",
    "    charsqlfile.close()"
   ]
  },
  {
   "cell_type": "code",
   "execution_count": 17,
   "metadata": {
    "collapsed": true
   },
   "outputs": [],
   "source": [
    "filename2=\"marveledges.csv\"\n",
    "\n",
    "data2=pd.read_csv(filename2, delimiter=\",\", header=None, names=['character1', \"character2\", \"orders\"])\n",
    "\n",
    "\n",
    "sqlfile2=[]\n",
    "for i in range(data2.shape[0]):\n",
    "    item=data2.iloc[i,].values.tolist()\n",
    "    insertion=str(item).strip('[]')\n",
    "    query=\"INSERT INTO marveledges VALUES (\"+insertion+\");\"\n",
    "    sqlfile2.append(query)\n",
    "\n",
    "with open(\"edge_sql.sql\", \"w\") as edgesqlfile:\n",
    "    for item in sqlfile2:\n",
    "        edgesqlfile.write(item+\"\\n\")\n",
    "    charsqlfile.close()"
   ]
  }
 ],
 "metadata": {
  "kernelspec": {
   "display_name": "Python 2",
   "language": "python",
   "name": "python2"
  },
  "language_info": {
   "codemirror_mode": {
    "name": "ipython",
    "version": 2
   },
   "file_extension": ".py",
   "mimetype": "text/x-python",
   "name": "python",
   "nbconvert_exporter": "python",
   "pygments_lexer": "ipython2",
   "version": "2.7.10"
  }
 },
 "nbformat": 4,
 "nbformat_minor": 0
}
